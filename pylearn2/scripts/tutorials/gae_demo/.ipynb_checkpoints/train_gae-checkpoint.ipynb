{
 "cells": [
  {
   "cell_type": "code",
   "execution_count": null,
   "id": "22443f5e",
   "metadata": {},
   "outputs": [],
   "source": [
    "import theano\n",
    "print(theano.config.device)"
   ]
  },
  {
   "cell_type": "code",
   "execution_count": null,
   "id": "d5ff273b",
   "metadata": {},
   "outputs": [],
   "source": [
    "import os\n",
    "import numpy\n",
    "import pylearn2\n",
    "from pylearn2.utils import serial\n",
    "from pylearn2.utils import sharedX\n",
    "\n",
    "dataset = 'random'\n",
    "transformation = 'shifts'\n",
    "region = 13\n",
    "channels = 1\n",
    "batch_size = 100\n",
    "\n",
    "params = {'save_path': '.',\n",
    "          'region': 13,\n",
    "          'nvisX': region*region*channels,\n",
    "          'nvisY': region*region*channels,\n",
    "          'max_epochs': 150,\n",
    "          'batch_size': batch_size,\n",
    "          'train_data': 'train_preprocessed.pkl',\n",
    "          'nfac': 169,\n",
    "          'nmap': 50,\n",
    "          'lr': 0.01}\n",
    "\n",
    "with open(os.path.join('.', 'gae_random.yaml'), 'r') as f:\n",
    "    train = f.read()\n",
    "train = train %params\n",
    "print(train)"
   ]
  },
  {
   "cell_type": "code",
   "execution_count": null,
   "id": "f2071122",
   "metadata": {},
   "outputs": [],
   "source": [
    "from pylearn2.config import yaml_parse\n",
    "train = yaml_parse.load(train)\n",
    "train.main_loop()"
   ]
  },
  {
   "cell_type": "code",
   "execution_count": null,
   "id": "458dc918",
   "metadata": {},
   "outputs": [],
   "source": []
  }
 ],
 "metadata": {
  "kernelspec": {
   "display_name": "Python 3 (ipykernel)",
   "language": "python",
   "name": "python3"
  },
  "language_info": {
   "codemirror_mode": {
    "name": "ipython",
    "version": 3
   },
   "file_extension": ".py",
   "mimetype": "text/x-python",
   "name": "python",
   "nbconvert_exporter": "python",
   "pygments_lexer": "ipython3",
   "version": "3.8.10"
  }
 },
 "nbformat": 4,
 "nbformat_minor": 1
}
